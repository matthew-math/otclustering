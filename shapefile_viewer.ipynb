{
 "cells": [
  {
   "cell_type": "code",
   "execution_count": 37,
   "id": "8c8b59d3-9976-4313-989b-c4303a5a0b98",
   "metadata": {},
   "outputs": [],
   "source": [
    "import numpy as np\n",
    "import matplotlib.pyplot as plt\n",
    "import scipy.linalg as la\n",
    "import scipy.stats as stats\n",
    "import networkx as nx\n",
    "import json\n",
    "import os\n",
    "import pandas\n",
    "import geopandas"
   ]
  },
  {
   "cell_type": "code",
   "execution_count": 34,
   "id": "5fdf6d9c-3441-48d2-a348-2e080106d49b",
   "metadata": {},
   "outputs": [
    {
     "name": "stdout",
     "output_type": "stream",
     "text": [
      "Matrix dimensions: (8921, 10)\n",
      "[[25. 36. 55. ... 25. 23. 32.]\n",
      " [24. 33. 52. ... 23. 20. 29.]\n",
      " [26. 33. 52. ... 24. 20. 29.]\n",
      " ...\n",
      " [39. 27. 41. ... 27. 20. 11.]\n",
      " [40. 27. 41. ... 28. 21. 11.]\n",
      " [40. 27. 41. ... 28. 21. 11.]]\n"
     ]
    }
   ],
   "source": [
    "#This loads the distance function from a json file\n",
    "distance_file_path = \"PA_vtds_10.json\"\n",
    "\n",
    "#### Load distance matrix\n",
    "with open(distance_file_path, \"r\") as f:\n",
    "    matrix = np.array(json.load(f))\n",
    "    matrix_dimensions = matrix.shape\n",
    "    print(\"Matrix dimensions:\",matrix_dimensions)\n",
    "    matrix_rows, matrix_columns = matrix_dimensions\n",
    "    if matrix_rows > matrix_columns:\n",
    "        N = matrix_rows\n",
    "    else:\n",
    "        N = matrix_columns\n",
    "\n",
    "print(matrix)"
   ]
  },
  {
   "cell_type": "code",
   "execution_count": 52,
   "id": "7a1f565b-4b07-41df-8d41-e548a6366d8b",
   "metadata": {},
   "outputs": [
    {
     "name": "stdout",
     "output_type": "stream",
     "text": [
      "Data headings:\n",
      "Empty GeoDataFrame\n",
      "Columns: [geometry]\n",
      "Index: []\n",
      "<GeometryArray>\n",
      "[                  <POLYGON ((0 0, 0 1000, 1000 1000, 1000 0, 0 0))>,\n",
      "          <POLYGON ((0 1000, 0 2000, 1000 2000, 1000 1000, 0 1000))>,\n",
      "          <POLYGON ((0 2000, 0 3000, 1000 3000, 1000 2000, 0 2000))>,\n",
      "          <POLYGON ((1000 0, 1000 1000, 2000 1000, 2000 0, 1000 0))>,\n",
      " <POLYGON ((1000 1000, 1000 2000, 2000 2000, 2000 1000, 1000 1000))>,\n",
      " <POLYGON ((1000 2000, 1000 3000, 2000 3000, 2000 2000, 1000 2000))>,\n",
      "          <POLYGON ((2000 0, 2000 1000, 3000 1000, 3000 0, 2000 0))>,\n",
      " <POLYGON ((2000 1000, 2000 2000, 3000 2000, 3000 1000, 2000 1000))>,\n",
      " <POLYGON ((2000 2000, 2000 3000, 3000 3000, 3000 2000, 2000 2000))>]\n",
      "Length: 9, dtype: geometry\n"
     ]
    },
    {
     "data": {
      "image/png": "[encoded data removed]",
      "text/plain": [
       "<Figure size 432x288 with 1 Axes>"
      ]
     },
     "metadata": {
      "needs_background": "light"
     },
     "output_type": "display_data"
    }
   ],
   "source": [
    "# Now load positions from state file\n",
    "position_file_path = \"simple_rectangle_shapefile.shp\"\n",
    "shx_filepath = position_file_path.replace(\".shp\", \".shx\")\n",
    "shx_filepath = shx_filepath.replace(\".SHP\", \".SHX\")\n",
    "\n",
    "if os.path.isfile(shx_filepath):\n",
    "    #with open(position_file_path, \"r\") as f:\n",
    "    #    position_matrix = np.array(json.load(f))\n",
    "    df = geopandas.read_file(position_file_path)\n",
    "else:\n",
    "    if os.path.isfile(position_file_path):\n",
    "        print(\"Unable to find\", shx_filepath, \"that needs to accompany\" , position_file_path, \". Are you sure it's in this directory?\")\n",
    "    else:\n",
    "        print(\"Unable to find\", position_file_path, \"and\", shx_filepath, \". Are you sure they're in this directory?\")\n",
    "    print(\"Unable to proceed with loading positional data\")\n",
    "    exit(1)\n",
    "\n",
    "# Now recreate position and weight graph\n",
    "print('Data headings:')\n",
    "print(df.head(0))\n",
    "\n",
    "geometry = df['geometry'].values\n",
    "print(geometry)\n",
    "df.plot()\n",
    "#geopdvisual(df)\n",
    "#plt.draw(df)\n",
    "plt.show()"
   ]
  },
  {
   "cell_type": "code",
   "execution_count": 44,
   "id": "2e2aa0f6-e3e8-4f7b-87e0-d6c066a6701a",
   "metadata": {},
   "outputs": [
    {
     "name": "stdout",
     "output_type": "stream",
     "text": [
      "Data headings:\n",
      "Empty GeoDataFrame\n",
      "Columns: [geometry]\n",
      "Index: []\n"
     ]
    }
   ],
   "source": []
  },
  {
   "cell_type": "code",
   "execution_count": 6,
   "id": "85d3cfca-3645-4b2a-a026-0f14238f1050",
   "metadata": {},
   "outputs": [],
   "source": [
    "# The goal here is to display the graph for the corresponding shapefile (to-do)\n",
    "matrix.resize(N, N)\n",
    "matrix_dimensions = matrix.shape\n",
    "print(\"Matrix dimensions (after reshaping to NxN):\",matrix_dimensions)\n",
    "\n",
    "try: # older versions of networkx\n",
    "    G = nx.from_numpy_matrix(matrix)\n",
    "except: # newer versions of networkx\n",
    "    G = nx.from_numpy_array(matrix)\n",
    "\n",
    "nx.draw_networkx_edges(G,pos=x)\n",
    "nx.draw_networkx_nodes(G,pos=x, node_size = 100, node_color = dist[80], cmap = 'plasma')\n",
    "plt.draw()"
   ]
  }
 ],
 "metadata": {
  "kernelspec": {
   "display_name": "Python 3 (ipykernel)",
   "language": "python",
   "name": "python3"
  },
  "language_info": {
   "codemirror_mode": {
    "name": "ipython",
    "version": 3
   },
   "file_extension": ".py",
   "mimetype": "text/x-python",
   "name": "python",
   "nbconvert_exporter": "python",
   "pygments_lexer": "ipython3",
   "version": "3.10.12"
  }
 },
 "nbformat": 4,
 "nbformat_minor": 5
}
